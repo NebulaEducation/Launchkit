{
 "cells": [
  {
   "cell_type": "markdown",
   "metadata": {},
   "source": [
    "## **Launch! Kit Greenhouse gas experiment**\n",
    "###### Created for Nebula Education by Nolan Tremelling 7 November 2020"
   ]
  },
  {
   "cell_type": "markdown",
   "metadata": {},
   "source": [
    "**This code imports the libraries that we will use for this experiment.** The first is the numpy library, and the second in the matplotlib library."
   ]
  },
  {
   "cell_type": "code",
   "execution_count": 16,
   "metadata": {},
   "outputs": [],
   "source": [
    "import numpy as np\n",
    "import matplotlib.pyplot as plt"
   ]
  },
  {
   "cell_type": "markdown",
   "metadata": {},
   "source": [
    "The first line below is our x axis values - our *domain*. This gives us our time interval for measurement. For example, the *time* from 0 to 10 minutes. This can be changed to fit your data, but just remember that **you must have one y value for every x value!**\n",
    "\n",
    "The second line below is our y axis values - our *range*. This gives us our meaurement. For this experiment, this is degrees Fahrenheit. This can be changed to fit your data, but remember that **you must have one y value for every x value.**"
   ]
  },
  {
   "cell_type": "code",
   "execution_count": 17,
   "metadata": {},
   "outputs": [],
   "source": [
    "x = np.arange(0,10)\n",
    "y = np.array([68, 70, 75, 80, 82, 86, 90, 95, 95, 96])"
   ]
  },
  {
   "cell_type": "markdown",
   "metadata": {},
   "source": [
    "The following code is measured sample data. This is used to **compare your data to measured data. Do not change this data!**"
   ]
  },
  {
   "cell_type": "code",
   "execution_count": null,
   "metadata": {},
   "outputs": [],
   "source": [
    "t = np.arange(0, 5)\n",
    "s = np.array([70, 80, 90, 100, 110])"
   ]
  },
  {
   "cell_type": "markdown",
   "metadata": {},
   "source": [
    "The following code is explained in the in-line comments below.\n",
    "\n",
    "**1. What can we title our graph to explain what we are measuring? Edit the title of the graph to reflect this.**\n",
    "**2. What are we measuring in the x axis? Edit the title of the x axis to reflet this.**\n",
    "**3. What are we measuring in the y axis? Edit the title of the y axis to reflet this.**\n",
    "\n",
    "The last three lines of code graph our data. We'll leave this alone!"
   ]
  },
  {
   "cell_type": "code",
   "execution_count": 23,
   "metadata": {},
   "outputs": [
    {
     "data": {
      "image/png": "[encoded data removed]",
      "text/plain": [
       "<Figure size 432x288 with 1 Axes>"
      ]
     },
     "metadata": {
      "needs_background": "light"
     },
     "output_type": "display_data"
    }
   ],
   "source": [
    "plt.title(\"Temperature Change\") # this is the title of our graph\n",
    "plt.xlabel(\"X Axis\") # this is the title of our x axis\n",
    "plt.ylabel(\"Y Axis\") # this is the title of our y axis\n",
    "\n",
    "# We will leave this code as is\n",
    "plt.plot(x, y, color = \"orange\") # this plots our x and y variables\n",
    "plt.plot(t, s, color = \"purple\") # this plots our t and s variables\n",
    "plt.show() # this shows our graph"
   ]
  },
  {
   "cell_type": "code",
   "execution_count": null,
   "metadata": {},
   "outputs": [],
   "source": []
  }
 ],
 "metadata": {
  "kernelspec": {
   "display_name": "Python 3",
   "language": "python",
   "name": "python3"
  },
  "language_info": {
   "codemirror_mode": {
    "name": "ipython",
    "version": 3
   },
   "file_extension": ".py",
   "mimetype": "text/x-python",
   "name": "python",
   "nbconvert_exporter": "python",
   "pygments_lexer": "ipython3",
   "version": "3.8.3"
  }
 },
 "nbformat": 4,
 "nbformat_minor": 4
}
